{
 "cells": [
  {
   "cell_type": "code",
   "execution_count": 29,
   "id": "d10fc692-a784-47a1-86c3-5de7529d72f3",
   "metadata": {},
   "outputs": [],
   "source": [
    "# Cargar el dataset\n",
    "\n",
    "import pandas as pd\n",
    "\n",
    "df = pd.read_csv('credit_risk_dataset.csv')"
   ]
  },
  {
   "cell_type": "code",
   "execution_count": 30,
   "metadata": {},
   "outputs": [],
   "source": [
    "# Eliminar Outliers de las columnas person_age y person_emp_length\n",
    "\n",
    "df = df[(df['person_age'] != 144) & (df['person_age'] != 123)]\n",
    "df = df[df['person_emp_length'] != 123]"
   ]
  },
  {
   "cell_type": "code",
   "execution_count": 11,
   "metadata": {},
   "outputs": [
    {
     "data": {
      "text/html": [
       "<div>\n",
       "<style scoped>\n",
       "    .dataframe tbody tr th:only-of-type {\n",
       "        vertical-align: middle;\n",
       "    }\n",
       "\n",
       "    .dataframe tbody tr th {\n",
       "        vertical-align: top;\n",
       "    }\n",
       "\n",
       "    .dataframe thead th {\n",
       "        text-align: right;\n",
       "    }\n",
       "</style>\n",
       "<table border=\"1\" class=\"dataframe\">\n",
       "  <thead>\n",
       "    <tr style=\"text-align: right;\">\n",
       "      <th></th>\n",
       "      <th>person_age</th>\n",
       "      <th>person_income</th>\n",
       "      <th>person_home_ownership</th>\n",
       "      <th>person_emp_length</th>\n",
       "      <th>loan_intent</th>\n",
       "      <th>loan_grade</th>\n",
       "      <th>loan_amnt</th>\n",
       "      <th>loan_int_rate</th>\n",
       "      <th>loan_status</th>\n",
       "      <th>loan_percent_income</th>\n",
       "      <th>cb_person_default_on_file</th>\n",
       "      <th>cb_person_cred_hist_length</th>\n",
       "    </tr>\n",
       "  </thead>\n",
       "  <tbody>\n",
       "  </tbody>\n",
       "</table>\n",
       "</div>"
      ],
      "text/plain": [
       "Empty DataFrame\n",
       "Columns: [person_age, person_income, person_home_ownership, person_emp_length, loan_intent, loan_grade, loan_amnt, loan_int_rate, loan_status, loan_percent_income, cb_person_default_on_file, cb_person_cred_hist_length]\n",
       "Index: []"
      ]
     },
     "metadata": {},
     "output_type": "display_data"
    },
    {
     "data": {
      "text/plain": [
       "0"
      ]
     },
     "metadata": {},
     "output_type": "display_data"
    }
   ],
   "source": [
    "# Detectar valores nulos de la columna person_emp_length\n",
    "# loan_int_rate\n",
    "column = 'person_emp_length'\n",
    "null_values = df[df[column].isnull()]\n",
    "display(null_values)\n",
    "\n",
    "null_values_in_column = df[column].isnull()\n",
    "display(null_values_in_column.sum())"
   ]
  },
  {
   "cell_type": "code",
   "execution_count": 28,
   "metadata": {},
   "outputs": [
    {
     "name": "stdout",
     "output_type": "stream",
     "text": [
      "4.0\n"
     ]
    }
   ],
   "source": [
    "# Completar los valores nulos de la columna person_emp_length utilizando la mediana\n",
    "\n",
    "median_emp_length = df['person_emp_length'].median()\n",
    "print(median_emp_length)\n",
    "df['person_emp_length'].fillna(median_emp_length, inplace=True)\n"
   ]
  },
  {
   "cell_type": "code",
   "execution_count": 9,
   "metadata": {},
   "outputs": [
    {
     "name": "stdout",
     "output_type": "stream",
     "text": [
      "person_age\n",
      "20     4.0\n",
      "21     3.0\n",
      "22     4.0\n",
      "23     4.0\n",
      "24     4.0\n",
      "25     4.0\n",
      "26     4.0\n",
      "27     4.0\n",
      "28     4.0\n",
      "29     4.0\n",
      "30     4.0\n",
      "31     4.0\n",
      "32     4.0\n",
      "33     4.0\n",
      "34     4.0\n",
      "35     4.0\n",
      "36     4.0\n",
      "37     4.0\n",
      "38     4.0\n",
      "39     4.0\n",
      "40     4.0\n",
      "41     4.0\n",
      "42     4.0\n",
      "43     4.0\n",
      "44     4.5\n",
      "45     5.0\n",
      "46     4.5\n",
      "47     4.0\n",
      "48     4.0\n",
      "49     4.5\n",
      "50     4.0\n",
      "51     3.0\n",
      "52     3.0\n",
      "53     3.0\n",
      "54     5.5\n",
      "55     3.0\n",
      "56     6.5\n",
      "57     2.0\n",
      "58     5.0\n",
      "59    14.0\n",
      "60     2.0\n",
      "61     3.0\n",
      "62     2.0\n",
      "63    13.0\n",
      "64     2.0\n",
      "65     3.0\n",
      "66     3.0\n",
      "67     2.0\n",
      "69     3.0\n",
      "70     0.5\n",
      "73     0.0\n",
      "76    23.0\n",
      "78    41.0\n",
      "80     7.0\n",
      "84     2.0\n",
      "94     1.0\n",
      "Name: person_emp_length, dtype: float64\n"
     ]
    }
   ],
   "source": [
    "# Completar valores vacios de person_emp_length utilizando informacion de loan_grade\n",
    "\n",
    "import pandas as pd\n",
    "\n",
    "# Calcular la mediana de la columna person_emp_length para cada categoría de loan_grade\n",
    "median_emp_length_by_grade = df.groupby('loan_grade')['person_emp_length'].median()\n",
    "\n",
    "# Función de imputación basada en la mediana por categoría\n",
    "def impute_emp_length(row):\n",
    "    if pd.isnull(row['person_emp_length']):\n",
    "        return median_emp_length_by_grade.get(row['loan_grade'], row['person_emp_length'])\n",
    "    return row['person_emp_length']\n",
    "\n",
    "# Aplicar la función de imputación a los valores faltantes\n",
    "df['person_emp_length'] = df.apply(impute_emp_length, axis=1)\n"
   ]
  },
  {
   "cell_type": "code",
   "execution_count": 62,
   "metadata": {},
   "outputs": [
    {
     "data": {
      "text/html": [
       "<div>\n",
       "<style scoped>\n",
       "    .dataframe tbody tr th:only-of-type {\n",
       "        vertical-align: middle;\n",
       "    }\n",
       "\n",
       "    .dataframe tbody tr th {\n",
       "        vertical-align: top;\n",
       "    }\n",
       "\n",
       "    .dataframe thead th {\n",
       "        text-align: right;\n",
       "    }\n",
       "</style>\n",
       "<table border=\"1\" class=\"dataframe\">\n",
       "  <thead>\n",
       "    <tr style=\"text-align: right;\">\n",
       "      <th></th>\n",
       "      <th>person_age</th>\n",
       "      <th>person_income</th>\n",
       "      <th>person_home_ownership</th>\n",
       "      <th>person_emp_length</th>\n",
       "      <th>loan_intent</th>\n",
       "      <th>loan_grade</th>\n",
       "      <th>loan_amnt</th>\n",
       "      <th>loan_int_rate</th>\n",
       "      <th>loan_status</th>\n",
       "      <th>loan_percent_income</th>\n",
       "      <th>cb_person_default_on_file</th>\n",
       "      <th>cb_person_cred_hist_length</th>\n",
       "    </tr>\n",
       "  </thead>\n",
       "  <tbody>\n",
       "  </tbody>\n",
       "</table>\n",
       "</div>"
      ],
      "text/plain": [
       "Empty DataFrame\n",
       "Columns: [person_age, person_income, person_home_ownership, person_emp_length, loan_intent, loan_grade, loan_amnt, loan_int_rate, loan_status, loan_percent_income, cb_person_default_on_file, cb_person_cred_hist_length]\n",
       "Index: []"
      ]
     },
     "metadata": {},
     "output_type": "display_data"
    },
    {
     "data": {
      "text/plain": [
       "0"
      ]
     },
     "metadata": {},
     "output_type": "display_data"
    }
   ],
   "source": [
    "# Detectar valores nulos en una columna especifica\n",
    "# loan_int_rate\n",
    "column = 'person_emp_length'\n",
    "null_values = df[df[column].isnull()]\n",
    "display(null_values)\n",
    "\n",
    "null_values_in_column = df[column].isnull()\n",
    "display(null_values_in_column.sum())"
   ]
  },
  {
   "cell_type": "code",
   "execution_count": 15,
   "metadata": {},
   "outputs": [
    {
     "data": {
      "text/html": [
       "<div>\n",
       "<style scoped>\n",
       "    .dataframe tbody tr th:only-of-type {\n",
       "        vertical-align: middle;\n",
       "    }\n",
       "\n",
       "    .dataframe tbody tr th {\n",
       "        vertical-align: top;\n",
       "    }\n",
       "\n",
       "    .dataframe thead th {\n",
       "        text-align: right;\n",
       "    }\n",
       "</style>\n",
       "<table border=\"1\" class=\"dataframe\">\n",
       "  <thead>\n",
       "    <tr style=\"text-align: right;\">\n",
       "      <th></th>\n",
       "      <th>person_age</th>\n",
       "      <th>person_income</th>\n",
       "      <th>person_home_ownership</th>\n",
       "      <th>person_emp_length</th>\n",
       "      <th>loan_intent</th>\n",
       "      <th>loan_grade</th>\n",
       "      <th>loan_amnt</th>\n",
       "      <th>loan_int_rate</th>\n",
       "      <th>loan_status</th>\n",
       "      <th>loan_percent_income</th>\n",
       "      <th>cb_person_default_on_file</th>\n",
       "      <th>cb_person_cred_hist_length</th>\n",
       "    </tr>\n",
       "  </thead>\n",
       "  <tbody>\n",
       "  </tbody>\n",
       "</table>\n",
       "</div>"
      ],
      "text/plain": [
       "Empty DataFrame\n",
       "Columns: [person_age, person_income, person_home_ownership, person_emp_length, loan_intent, loan_grade, loan_amnt, loan_int_rate, loan_status, loan_percent_income, cb_person_default_on_file, cb_person_cred_hist_length]\n",
       "Index: []"
      ]
     },
     "metadata": {},
     "output_type": "display_data"
    },
    {
     "data": {
      "text/plain": [
       "0"
      ]
     },
     "metadata": {},
     "output_type": "display_data"
    }
   ],
   "source": [
    "# Detectar valores nulos de la columna loan_int_rate\n",
    "column = 'loan_int_rate'\n",
    "null_values = df[df[column].isnull()]\n",
    "display(null_values)\n",
    "\n",
    "null_values_in_column = df[column].isnull()\n",
    "display(null_values_in_column.sum())"
   ]
  },
  {
   "cell_type": "code",
   "execution_count": 13,
   "metadata": {},
   "outputs": [
    {
     "name": "stdout",
     "output_type": "stream",
     "text": [
      "10.99\n"
     ]
    }
   ],
   "source": [
    "# Completar los valores nulos de la columna loan_int_rate utilizando la mediana\n",
    "\n",
    "median_loan_int_rate = df['loan_int_rate'].median()\n",
    "print(median_loan_int_rate)\n",
    "# df['loan_int_rate'].fillna(median_loan_int_rate, inplace=True)"
   ]
  },
  {
   "cell_type": "code",
   "execution_count": 14,
   "metadata": {},
   "outputs": [
    {
     "data": {
      "text/plain": [
       "loan_grade\n",
       "A     7.490\n",
       "B    10.990\n",
       "C    13.480\n",
       "D    15.310\n",
       "E    16.820\n",
       "F    18.535\n",
       "G    20.160\n",
       "Name: loan_int_rate, dtype: float64"
      ]
     },
     "metadata": {},
     "output_type": "display_data"
    }
   ],
   "source": [
    "# Completar valores vacios de loan_int_rate utilizando informacion de loan_grade\n",
    "\n",
    "import pandas as pd\n",
    "\n",
    "# Calcular la mediana de la columna person_emp_length para cada categoría de loan_grade\n",
    "median_loan_int_rate_by_grade = df.groupby('loan_grade')['loan_int_rate'].median()\n",
    "\n",
    "display(median_loan_int_rate_by_grade)\n",
    "\n",
    "# Función de imputación basada en la mediana por categoría\n",
    "def impute_int_rate(row):\n",
    "    if pd.isnull(row['loan_int_rate']):\n",
    "        return median_loan_int_rate_by_grade.get(row['loan_grade'], row['loan_int_rate'])\n",
    "    return row['loan_int_rate']\n",
    "\n",
    "# # Aplicar la función de imputación a los valores faltantes\n",
    "df['loan_int_rate'] = df.apply(impute_int_rate, axis=1)"
   ]
  },
  {
   "cell_type": "code",
   "execution_count": 18,
   "metadata": {},
   "outputs": [],
   "source": [
    "loan_intent_groups= {\n",
    "    'DEBTCONSOLIDATION': 1,\n",
    "    'EDUCATION': 2,\n",
    "    'HOMEIMPROVEMENT': 3,\n",
    "    'MEDICAL': 4,\n",
    "    'PERSONAL': 5,\n",
    "    'VENTURE': 6\n",
    "}\n",
    "\n",
    "person_home_ownership_groups = {\n",
    "    'MORTGAGE': 1,\n",
    "    'OTHER': 2,\n",
    "    'OWN': 3,\n",
    "    'RENT': 4\n",
    "}\n",
    "\n",
    "loan_grade_groups = {\n",
    "    'A': 1,\n",
    "    'B': 2,\n",
    "    'C': 3,\n",
    "    'D': 4,\n",
    "    'E': 5,\n",
    "    'F': 6,\n",
    "    'G': 7\n",
    "}\n",
    "\n",
    "cb_person_default_on_file_groups = {\n",
    "    'N': 1,\n",
    "    'Y': 0\n",
    "}\n",
    "\n",
    "df['person_home_ownership'] = df['person_home_ownership'].map(person_home_ownership_groups)\n",
    "df['loan_intent'] = df['loan_intent'].map(loan_intent_groups)\n",
    "df['loan_grade'] = df['loan_grade'].map(loan_grade_groups)\n",
    "df['cb_person_default_on_file'] = df['cb_person_default_on_file'].map(cb_person_default_on_file_groups)"
   ]
  },
  {
   "cell_type": "code",
   "execution_count": 19,
   "metadata": {},
   "outputs": [
    {
     "data": {
      "text/html": [
       "<div>\n",
       "<style scoped>\n",
       "    .dataframe tbody tr th:only-of-type {\n",
       "        vertical-align: middle;\n",
       "    }\n",
       "\n",
       "    .dataframe tbody tr th {\n",
       "        vertical-align: top;\n",
       "    }\n",
       "\n",
       "    .dataframe thead th {\n",
       "        text-align: right;\n",
       "    }\n",
       "</style>\n",
       "<table border=\"1\" class=\"dataframe\">\n",
       "  <thead>\n",
       "    <tr style=\"text-align: right;\">\n",
       "      <th></th>\n",
       "      <th>person_home_ownership</th>\n",
       "      <th>counts</th>\n",
       "    </tr>\n",
       "  </thead>\n",
       "  <tbody>\n",
       "    <tr>\n",
       "      <th>0</th>\n",
       "      <td>1</td>\n",
       "      <td>13441</td>\n",
       "    </tr>\n",
       "    <tr>\n",
       "      <th>1</th>\n",
       "      <td>2</td>\n",
       "      <td>107</td>\n",
       "    </tr>\n",
       "    <tr>\n",
       "      <th>2</th>\n",
       "      <td>3</td>\n",
       "      <td>2584</td>\n",
       "    </tr>\n",
       "    <tr>\n",
       "      <th>3</th>\n",
       "      <td>4</td>\n",
       "      <td>16442</td>\n",
       "    </tr>\n",
       "  </tbody>\n",
       "</table>\n",
       "</div>"
      ],
      "text/plain": [
       "   person_home_ownership  counts\n",
       "0                      1   13441\n",
       "1                      2     107\n",
       "2                      3    2584\n",
       "3                      4   16442"
      ]
     },
     "metadata": {},
     "output_type": "display_data"
    }
   ],
   "source": [
    "display(df.groupby('person_home_ownership').size().reset_index(name='counts'))\n",
    "# display(df)"
   ]
  },
  {
   "cell_type": "code",
   "execution_count": 25,
   "metadata": {},
   "outputs": [],
   "source": [
    "# Importing the library \n",
    "from sklearn.preprocessing import StandardScaler\n",
    "  \n",
    "# define standard scaler \n",
    "scaler = StandardScaler() \n",
    "  \n",
    "# transform data\n",
    "df = scaler.fit_transform(df)"
   ]
  },
  {
   "cell_type": "code",
   "execution_count": 48,
   "metadata": {},
   "outputs": [
    {
     "data": {
      "text/plain": [
       "<32574x8 sparse matrix of type '<class 'numpy.float64'>'\n",
       "\twith 65148 stored elements in Compressed Sparse Row format>"
      ]
     },
     "metadata": {},
     "output_type": "display_data"
    },
    {
     "data": {
      "text/html": [
       "<style>#sk-container-id-2 {color: black;}#sk-container-id-2 pre{padding: 0;}#sk-container-id-2 div.sk-toggleable {background-color: white;}#sk-container-id-2 label.sk-toggleable__label {cursor: pointer;display: block;width: 100%;margin-bottom: 0;padding: 0.3em;box-sizing: border-box;text-align: center;}#sk-container-id-2 label.sk-toggleable__label-arrow:before {content: \"▸\";float: left;margin-right: 0.25em;color: #696969;}#sk-container-id-2 label.sk-toggleable__label-arrow:hover:before {color: black;}#sk-container-id-2 div.sk-estimator:hover label.sk-toggleable__label-arrow:before {color: black;}#sk-container-id-2 div.sk-toggleable__content {max-height: 0;max-width: 0;overflow: hidden;text-align: left;background-color: #f0f8ff;}#sk-container-id-2 div.sk-toggleable__content pre {margin: 0.2em;color: black;border-radius: 0.25em;background-color: #f0f8ff;}#sk-container-id-2 input.sk-toggleable__control:checked~div.sk-toggleable__content {max-height: 200px;max-width: 100%;overflow: auto;}#sk-container-id-2 input.sk-toggleable__control:checked~label.sk-toggleable__label-arrow:before {content: \"▾\";}#sk-container-id-2 div.sk-estimator input.sk-toggleable__control:checked~label.sk-toggleable__label {background-color: #d4ebff;}#sk-container-id-2 div.sk-label input.sk-toggleable__control:checked~label.sk-toggleable__label {background-color: #d4ebff;}#sk-container-id-2 input.sk-hidden--visually {border: 0;clip: rect(1px 1px 1px 1px);clip: rect(1px, 1px, 1px, 1px);height: 1px;margin: -1px;overflow: hidden;padding: 0;position: absolute;width: 1px;}#sk-container-id-2 div.sk-estimator {font-family: monospace;background-color: #f0f8ff;border: 1px dotted black;border-radius: 0.25em;box-sizing: border-box;margin-bottom: 0.5em;}#sk-container-id-2 div.sk-estimator:hover {background-color: #d4ebff;}#sk-container-id-2 div.sk-parallel-item::after {content: \"\";width: 100%;border-bottom: 1px solid gray;flex-grow: 1;}#sk-container-id-2 div.sk-label:hover label.sk-toggleable__label {background-color: #d4ebff;}#sk-container-id-2 div.sk-serial::before {content: \"\";position: absolute;border-left: 1px solid gray;box-sizing: border-box;top: 0;bottom: 0;left: 50%;z-index: 0;}#sk-container-id-2 div.sk-serial {display: flex;flex-direction: column;align-items: center;background-color: white;padding-right: 0.2em;padding-left: 0.2em;position: relative;}#sk-container-id-2 div.sk-item {position: relative;z-index: 1;}#sk-container-id-2 div.sk-parallel {display: flex;align-items: stretch;justify-content: center;background-color: white;position: relative;}#sk-container-id-2 div.sk-item::before, #sk-container-id-2 div.sk-parallel-item::before {content: \"\";position: absolute;border-left: 1px solid gray;box-sizing: border-box;top: 0;bottom: 0;left: 50%;z-index: -1;}#sk-container-id-2 div.sk-parallel-item {display: flex;flex-direction: column;z-index: 1;position: relative;background-color: white;}#sk-container-id-2 div.sk-parallel-item:first-child::after {align-self: flex-end;width: 50%;}#sk-container-id-2 div.sk-parallel-item:last-child::after {align-self: flex-start;width: 50%;}#sk-container-id-2 div.sk-parallel-item:only-child::after {width: 0;}#sk-container-id-2 div.sk-dashed-wrapped {border: 1px dashed gray;margin: 0 0.4em 0.5em 0.4em;box-sizing: border-box;padding-bottom: 0.4em;background-color: white;}#sk-container-id-2 div.sk-label label {font-family: monospace;font-weight: bold;display: inline-block;line-height: 1.2em;}#sk-container-id-2 div.sk-label-container {text-align: center;}#sk-container-id-2 div.sk-container {/* jupyter's `normalize.less` sets `[hidden] { display: none; }` but bootstrap.min.css set `[hidden] { display: none !important; }` so we also need the `!important` here to be able to override the default hidden behavior on the sphinx rendered scikit-learn.org. See: https://github.com/scikit-learn/scikit-learn/issues/21755 */display: inline-block !important;position: relative;}#sk-container-id-2 div.sk-text-repr-fallback {display: none;}</style><div id=\"sk-container-id-2\" class=\"sk-top-container\"><div class=\"sk-text-repr-fallback\"><pre>OneHotEncoder()</pre><b>In a Jupyter environment, please rerun this cell to show the HTML representation or trust the notebook. <br />On GitHub, the HTML representation is unable to render, please try loading this page with nbviewer.org.</b></div><div class=\"sk-container\" hidden><div class=\"sk-item\"><div class=\"sk-estimator sk-toggleable\"><input class=\"sk-toggleable__control sk-hidden--visually\" id=\"sk-estimator-id-2\" type=\"checkbox\" checked><label for=\"sk-estimator-id-2\" class=\"sk-toggleable__label sk-toggleable__label-arrow\">OneHotEncoder</label><div class=\"sk-toggleable__content\"><pre>OneHotEncoder()</pre></div></div></div></div></div>"
      ],
      "text/plain": [
       "OneHotEncoder()"
      ]
     },
     "metadata": {},
     "output_type": "display_data"
    }
   ],
   "source": [
    "from sklearn.preprocessing import OneHotEncoder\n",
    "\n",
    "person_home_ownership_groups = {\n",
    "    'MORTGAGE': 1,\n",
    "    'OTHER': 2,\n",
    "    'OWN': 3,\n",
    "    'RENT': 4\n",
    "}\n",
    "\n",
    "numbers =  pd.DataFrame(df['person_home_ownership'].map(person_home_ownership_groups))\n",
    "# display(numbers)\n",
    "numbers = numbers.rename(columns={'person_home_ownership': 'person_home_ownership_number'})\n",
    "\n",
    "new_df = df['person_home_ownership']\n",
    "\n",
    "final = pd.concat([new_df, numbers], axis=1)\n",
    "\n",
    "encoder = OneHotEncoder()\n",
    "\n",
    "encoder.fit(final)\n",
    "display(encoder.transform(final))\n",
    "\n",
    "display(encoder)"
   ]
  }
 ],
 "metadata": {
  "kernelspec": {
   "display_name": "virtual_env",
   "language": "python",
   "name": "python3"
  },
  "language_info": {
   "codemirror_mode": {
    "name": "ipython",
    "version": 3
   },
   "file_extension": ".py",
   "mimetype": "text/x-python",
   "name": "python",
   "nbconvert_exporter": "python",
   "pygments_lexer": "ipython3",
   "version": "3.11.5"
  }
 },
 "nbformat": 4,
 "nbformat_minor": 5
}
