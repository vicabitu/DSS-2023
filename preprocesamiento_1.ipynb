{
 "cells": [
  {
   "cell_type": "code",
   "execution_count": 8,
   "id": "d10fc692-a784-47a1-86c3-5de7529d72f3",
   "metadata": {},
   "outputs": [],
   "source": [
    "# Cargar el dataset\n",
    "import pandas as pd\n",
    "\n",
    "df = pd.read_csv('credit_risk_dataset.csv')"
   ]
  },
  {
   "cell_type": "code",
   "execution_count": 9,
   "metadata": {},
   "outputs": [],
   "source": [
    "# Eliminar Outliers de las columnas person_age y person_emp_length\n",
    "# df2 = pd.DataFrame(df[(df['person_age'] != 144) & (df['person_age'] != 123)])\n",
    "# df3 = pd.DataFrame(df2[df2['person_emp_length'] != 123])\n",
    "\n",
    "df = df.loc[~((df['person_age'] == 123) | (df['person_age'] == 144) | (df['person_emp_length'] == 123))]\n",
    "df = df.reset_index(drop=True)\n",
    "\n",
    "# display(df3)"
   ]
  },
  {
   "cell_type": "code",
   "execution_count": 12,
   "metadata": {},
   "outputs": [
    {
     "data": {
      "text/html": [
       "<div>\n",
       "<style scoped>\n",
       "    .dataframe tbody tr th:only-of-type {\n",
       "        vertical-align: middle;\n",
       "    }\n",
       "\n",
       "    .dataframe tbody tr th {\n",
       "        vertical-align: top;\n",
       "    }\n",
       "\n",
       "    .dataframe thead th {\n",
       "        text-align: right;\n",
       "    }\n",
       "</style>\n",
       "<table border=\"1\" class=\"dataframe\">\n",
       "  <thead>\n",
       "    <tr style=\"text-align: right;\">\n",
       "      <th></th>\n",
       "      <th>person_age</th>\n",
       "      <th>person_income</th>\n",
       "      <th>person_home_ownership</th>\n",
       "      <th>person_emp_length</th>\n",
       "      <th>loan_intent</th>\n",
       "      <th>loan_grade</th>\n",
       "      <th>loan_amnt</th>\n",
       "      <th>loan_int_rate</th>\n",
       "      <th>loan_status</th>\n",
       "      <th>loan_percent_income</th>\n",
       "      <th>cb_person_default_on_file</th>\n",
       "      <th>cb_person_cred_hist_length</th>\n",
       "    </tr>\n",
       "  </thead>\n",
       "  <tbody>\n",
       "  </tbody>\n",
       "</table>\n",
       "</div>"
      ],
      "text/plain": [
       "Empty DataFrame\n",
       "Columns: [person_age, person_income, person_home_ownership, person_emp_length, loan_intent, loan_grade, loan_amnt, loan_int_rate, loan_status, loan_percent_income, cb_person_default_on_file, cb_person_cred_hist_length]\n",
       "Index: []"
      ]
     },
     "metadata": {},
     "output_type": "display_data"
    },
    {
     "data": {
      "text/plain": [
       "0"
      ]
     },
     "metadata": {},
     "output_type": "display_data"
    }
   ],
   "source": [
    "# Detectar valores nulos de la columna person_emp_length\n",
    "column = 'person_emp_length'\n",
    "null_values = df[df[column].isnull()]\n",
    "display(null_values)\n",
    "\n",
    "null_values_in_column = df[column].isnull()\n",
    "display(null_values_in_column.sum())"
   ]
  },
  {
   "cell_type": "code",
   "execution_count": 11,
   "metadata": {},
   "outputs": [
    {
     "data": {
      "text/plain": [
       "4.0"
      ]
     },
     "metadata": {},
     "output_type": "display_data"
    }
   ],
   "source": [
    "# Completar los valores nulos de la columna person_emp_length utilizando la mediana\n",
    "\n",
    "median_emp_length = df['person_emp_length'].median()\n",
    "display(median_emp_length)\n",
    "df['person_emp_length'].fillna(median_emp_length, inplace=True)\n"
   ]
  },
  {
   "cell_type": "code",
   "execution_count": null,
   "metadata": {},
   "outputs": [],
   "source": [
    "# Completar valores vacios de person_emp_length utilizando informacion de loan_grade\n",
    "\n",
    "# Calcular la mediana de la columna person_emp_length para cada categoría de loan_grade\n",
    "median_emp_length_by_grade = df.groupby('loan_grade')['person_emp_length'].median()\n",
    "\n",
    "# Función de imputación basada en la mediana por categoría\n",
    "def impute_emp_length(row):\n",
    "    if pd.isnull(row['person_emp_length']):\n",
    "        return median_emp_length_by_grade.get(row['loan_grade'], row['person_emp_length'])\n",
    "    return row['person_emp_length']\n",
    "\n",
    "# Aplicar la función de imputación a los valores faltantes\n",
    "df['person_emp_length'] = df.apply(impute_emp_length, axis=1)\n"
   ]
  },
  {
   "cell_type": "code",
   "execution_count": 15,
   "metadata": {},
   "outputs": [
    {
     "data": {
      "text/html": [
       "<div>\n",
       "<style scoped>\n",
       "    .dataframe tbody tr th:only-of-type {\n",
       "        vertical-align: middle;\n",
       "    }\n",
       "\n",
       "    .dataframe tbody tr th {\n",
       "        vertical-align: top;\n",
       "    }\n",
       "\n",
       "    .dataframe thead th {\n",
       "        text-align: right;\n",
       "    }\n",
       "</style>\n",
       "<table border=\"1\" class=\"dataframe\">\n",
       "  <thead>\n",
       "    <tr style=\"text-align: right;\">\n",
       "      <th></th>\n",
       "      <th>person_age</th>\n",
       "      <th>person_income</th>\n",
       "      <th>person_home_ownership</th>\n",
       "      <th>person_emp_length</th>\n",
       "      <th>loan_intent</th>\n",
       "      <th>loan_grade</th>\n",
       "      <th>loan_amnt</th>\n",
       "      <th>loan_int_rate</th>\n",
       "      <th>loan_status</th>\n",
       "      <th>loan_percent_income</th>\n",
       "      <th>cb_person_default_on_file</th>\n",
       "      <th>cb_person_cred_hist_length</th>\n",
       "    </tr>\n",
       "  </thead>\n",
       "  <tbody>\n",
       "  </tbody>\n",
       "</table>\n",
       "</div>"
      ],
      "text/plain": [
       "Empty DataFrame\n",
       "Columns: [person_age, person_income, person_home_ownership, person_emp_length, loan_intent, loan_grade, loan_amnt, loan_int_rate, loan_status, loan_percent_income, cb_person_default_on_file, cb_person_cred_hist_length]\n",
       "Index: []"
      ]
     },
     "metadata": {},
     "output_type": "display_data"
    },
    {
     "data": {
      "text/plain": [
       "0"
      ]
     },
     "metadata": {},
     "output_type": "display_data"
    }
   ],
   "source": [
    "# Detectar valores nulos de la columna loan_int_rate\n",
    "column = 'loan_int_rate'\n",
    "null_values = df[df[column].isnull()]\n",
    "display(null_values)\n",
    "\n",
    "null_values_in_column = df[column].isnull()\n",
    "display(null_values_in_column.sum())"
   ]
  },
  {
   "cell_type": "code",
   "execution_count": 13,
   "metadata": {},
   "outputs": [
    {
     "name": "stdout",
     "output_type": "stream",
     "text": [
      "10.99\n"
     ]
    }
   ],
   "source": [
    "# Completar los valores nulos de la columna loan_int_rate utilizando la mediana\n",
    "\n",
    "median_loan_int_rate = df['loan_int_rate'].median()\n",
    "print(median_loan_int_rate)\n",
    "df['loan_int_rate'].fillna(median_loan_int_rate, inplace=True)"
   ]
  },
  {
   "cell_type": "code",
   "execution_count": 14,
   "metadata": {},
   "outputs": [
    {
     "data": {
      "text/plain": [
       "loan_grade\n",
       "A     7.490\n",
       "B    10.990\n",
       "C    13.480\n",
       "D    15.310\n",
       "E    16.820\n",
       "F    18.535\n",
       "G    20.160\n",
       "Name: loan_int_rate, dtype: float64"
      ]
     },
     "metadata": {},
     "output_type": "display_data"
    }
   ],
   "source": [
    "# Completar valores vacios de loan_int_rate utilizando informacion de loan_grade\n",
    "\n",
    "# Calcular la mediana de la columna person_emp_length para cada categoría de loan_grade\n",
    "median_loan_int_rate_by_grade = df.groupby('loan_grade')['loan_int_rate'].median()\n",
    "\n",
    "display(median_loan_int_rate_by_grade)\n",
    "\n",
    "# Función de imputación basada en la mediana por categoría\n",
    "def impute_int_rate(row):\n",
    "    if pd.isnull(row['loan_int_rate']):\n",
    "        return median_loan_int_rate_by_grade.get(row['loan_grade'], row['loan_int_rate'])\n",
    "    return row['loan_int_rate']\n",
    "\n",
    "# Aplicar la función de imputación a los valores faltantes\n",
    "df['loan_int_rate'] = df.apply(impute_int_rate, axis=1)"
   ]
  },
  {
   "cell_type": "code",
   "execution_count": 16,
   "metadata": {},
   "outputs": [],
   "source": [
    "loan_intent_groups= {\n",
    "    'DEBTCONSOLIDATION': 1,\n",
    "    'EDUCATION': 2,\n",
    "    'HOMEIMPROVEMENT': 3,\n",
    "    'MEDICAL': 4,\n",
    "    'PERSONAL': 5,\n",
    "    'VENTURE': 6\n",
    "}\n",
    "\n",
    "person_home_ownership_groups = {\n",
    "    'MORTGAGE': 1,\n",
    "    'OTHER': 2,\n",
    "    'OWN': 3,\n",
    "    'RENT': 4\n",
    "}\n",
    "\n",
    "loan_grade_groups = {\n",
    "    'A': 1,\n",
    "    'B': 2,\n",
    "    'C': 3,\n",
    "    'D': 4,\n",
    "    'E': 5,\n",
    "    'F': 6,\n",
    "    'G': 7\n",
    "}\n",
    "\n",
    "cb_person_default_on_file_groups = {\n",
    "    'N': 1,\n",
    "    'Y': 0\n",
    "}\n",
    "\n",
    "df['person_home_ownership'] = df['person_home_ownership'].map(person_home_ownership_groups)\n",
    "df['loan_intent'] = df['loan_intent'].map(loan_intent_groups)\n",
    "df['loan_grade'] = df['loan_grade'].map(loan_grade_groups)\n",
    "df['cb_person_default_on_file'] = df['cb_person_default_on_file'].map(cb_person_default_on_file_groups)\n",
    "\n",
    "df.to_csv('tree.csv', index=False)"
   ]
  }
 ],
 "metadata": {
  "kernelspec": {
   "display_name": "virtual_env",
   "language": "python",
   "name": "python3"
  },
  "language_info": {
   "codemirror_mode": {
    "name": "ipython",
    "version": 3
   },
   "file_extension": ".py",
   "mimetype": "text/x-python",
   "name": "python",
   "nbconvert_exporter": "python",
   "pygments_lexer": "ipython3",
   "version": "3.11.5"
  }
 },
 "nbformat": 4,
 "nbformat_minor": 5
}
