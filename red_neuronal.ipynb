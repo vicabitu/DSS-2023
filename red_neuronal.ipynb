{
 "cells": [
  {
   "cell_type": "code",
   "execution_count": 19,
   "metadata": {},
   "outputs": [],
   "source": [
    "# Importar las bibliotecas necesarias\n",
    "import pandas as pd\n",
    "from keras.models import Sequential\n",
    "from keras.layers import Dense, Dropout\n",
    "from sklearn.model_selection import train_test_split\n",
    "from sklearn.metrics import accuracy_score"
   ]
  },
  {
   "cell_type": "code",
   "execution_count": 20,
   "metadata": {},
   "outputs": [],
   "source": [
    "# Cargar el dataframe de riesgo crediticio previamente trabajado con las tareas necesarias de preprocesamiento\n",
    "df = pd.read_csv('estandarizado.csv')"
   ]
  },
  {
   "cell_type": "code",
   "execution_count": 21,
   "metadata": {},
   "outputs": [],
   "source": [
    "# Dividir el dataset en muestras para entrenamiento y muestras para pruebas\n",
    "y = pd.DataFrame(df.pop('loan_status'))\n",
    "X_train, X_test, y_train, y_test = train_test_split(df, y, test_size=0.2, random_state=42)"
   ]
  },
  {
   "cell_type": "code",
   "execution_count": 22,
   "metadata": {},
   "outputs": [
    {
     "name": "stdout",
     "output_type": "stream",
     "text": [
      "Model: \"sequential_1\"\n",
      "_________________________________________________________________\n",
      " Layer (type)                Output Shape              Param #   \n",
      "=================================================================\n",
      " dense_3 (Dense)             (None, 64)                1728      \n",
      "                                                                 \n",
      " dropout_2 (Dropout)         (None, 64)                0         \n",
      "                                                                 \n",
      " dense_4 (Dense)             (None, 32)                2080      \n",
      "                                                                 \n",
      " dropout_3 (Dropout)         (None, 32)                0         \n",
      "                                                                 \n",
      " dense_5 (Dense)             (None, 1)                 33        \n",
      "                                                                 \n",
      "=================================================================\n",
      "Total params: 3841 (15.00 KB)\n",
      "Trainable params: 3841 (15.00 KB)\n",
      "Non-trainable params: 0 (0.00 Byte)\n",
      "_________________________________________________________________\n"
     ]
    }
   ],
   "source": [
    "# Construir la red neuronal\n",
    "model = Sequential()\n",
    "model.add(Dense(64, input_dim=X_train.shape[1], activation='relu'))\n",
    "model.add(Dropout(0.1))\n",
    "model.add(Dense(32, activation='relu'))\n",
    "model.add(Dropout(0.1))\n",
    "model.add(Dense(1, activation='sigmoid'))\n",
    "\n",
    "# Visualizar un resumen del modelo generado\n",
    "model.summary()"
   ]
  },
  {
   "cell_type": "code",
   "execution_count": 23,
   "metadata": {},
   "outputs": [
    {
     "name": "stdout",
     "output_type": "stream",
     "text": [
      "Epoch 1/10\n",
      "815/815 [==============================] - 1s 694us/step - loss: 0.3508 - accuracy: 0.8594 - val_loss: 0.2880 - val_accuracy: 0.8909\n",
      "Epoch 2/10\n",
      "815/815 [==============================] - 0s 612us/step - loss: 0.2923 - accuracy: 0.8956 - val_loss: 0.2654 - val_accuracy: 0.9068\n",
      "Epoch 3/10\n",
      "815/815 [==============================] - 1s 624us/step - loss: 0.2731 - accuracy: 0.9048 - val_loss: 0.2546 - val_accuracy: 0.9111\n",
      "Epoch 4/10\n",
      "815/815 [==============================] - 0s 600us/step - loss: 0.2609 - accuracy: 0.9098 - val_loss: 0.2535 - val_accuracy: 0.9107\n",
      "Epoch 5/10\n",
      "815/815 [==============================] - 1s 617us/step - loss: 0.2540 - accuracy: 0.9132 - val_loss: 0.2378 - val_accuracy: 0.9185\n",
      "Epoch 6/10\n",
      "815/815 [==============================] - 0s 598us/step - loss: 0.2490 - accuracy: 0.9145 - val_loss: 0.2331 - val_accuracy: 0.9223\n",
      "Epoch 7/10\n",
      "815/815 [==============================] - 0s 602us/step - loss: 0.2433 - accuracy: 0.9169 - val_loss: 0.2313 - val_accuracy: 0.9205\n",
      "Epoch 8/10\n",
      "815/815 [==============================] - 0s 598us/step - loss: 0.2380 - accuracy: 0.9183 - val_loss: 0.2304 - val_accuracy: 0.9206\n",
      "Epoch 9/10\n",
      "815/815 [==============================] - 1s 630us/step - loss: 0.2329 - accuracy: 0.9207 - val_loss: 0.2311 - val_accuracy: 0.9222\n",
      "Epoch 10/10\n",
      "815/815 [==============================] - 0s 594us/step - loss: 0.2311 - accuracy: 0.9209 - val_loss: 0.2235 - val_accuracy: 0.9233\n",
      "204/204 [==============================] - 0s 333us/step - loss: 0.2235 - accuracy: 0.9233\n",
      "Loss: 0.22347542643547058, Accuracy: 0.9232540130615234\n"
     ]
    }
   ],
   "source": [
    "# Compilar el modelo\n",
    "model.compile(loss='binary_crossentropy', optimizer='adam', metrics=['accuracy'])\n",
    "\n",
    "# Entrenar el modelo\n",
    "model.fit(X_train, y_train, epochs=10, batch_size=32, validation_data=(X_test, y_test))\n",
    "\n",
    "# Evaluar el modelo en el conjunto de prueba\n",
    "loss, accuracy = model.evaluate(X_test, y_test)\n",
    "print(f'Loss: {loss}, Accuracy: {accuracy}')"
   ]
  },
  {
   "cell_type": "code",
   "execution_count": 24,
   "metadata": {},
   "outputs": [
    {
     "name": "stdout",
     "output_type": "stream",
     "text": [
      "204/204 [==============================] - 0s 317us/step\n"
     ]
    }
   ],
   "source": [
    "# Realiza predicciones en el conjunto de prueba\n",
    "predictions = model.predict(X_test)\n",
    "\n",
    "# Convierte las probabilidades (salida de la función sigmoide) a clases binarias (0 o 1)\n",
    "predicted_classes = (predictions > 0.5).astype(int)\n",
    "\n",
    "# Ahora, 'predicted_classes' contiene las predicciones binarias para cada muestra en X_test"
   ]
  },
  {
   "cell_type": "code",
   "execution_count": 7,
   "metadata": {},
   "outputs": [
    {
     "data": {
      "image/png": "[encoded data removed]",
      "text/plain": [
       "<Figure size 800x600 with 2 Axes>"
      ]
     },
     "metadata": {},
     "output_type": "display_data"
    }
   ],
   "source": [
    "import matplotlib.pyplot as plt\n",
    "from sklearn.metrics import confusion_matrix\n",
    "\n",
    "# Matriz de confusión\n",
    "cm = confusion_matrix(y_test, predicted_classes)\n",
    "\n",
    "# Graficar la matriz de confusión\n",
    "plt.figure(figsize=(8, 6))\n",
    "plt.imshow(cm, interpolation='nearest', cmap=plt.cm.Blues)\n",
    "plt.title('Matriz de Confusión')\n",
    "plt.colorbar()\n",
    "\n",
    "classes = ['0', '1']\n",
    "tick_marks = range(len(classes))\n",
    "plt.xticks(tick_marks, classes)\n",
    "plt.yticks(tick_marks, classes)\n",
    "\n",
    "plt.xlabel('Predicción')\n",
    "plt.ylabel('Real')\n",
    "\n",
    "for i in range(len(classes)):\n",
    "    for j in range(len(classes)):\n",
    "        plt.text(\n",
    "            j, \n",
    "            i, \n",
    "            format(cm[i, j], 'd'),\n",
    "            horizontalalignment=\"center\",\n",
    "            color=\"white\" if cm[i, j] > cm.max() / 2 else \"black\"\n",
    "        )\n",
    "\n",
    "plt.show()"
   ]
  },
  {
   "cell_type": "code",
   "execution_count": 27,
   "metadata": {},
   "outputs": [
    {
     "name": "stdout",
     "output_type": "stream",
     "text": [
      "\n",
      "Classification Report:\n",
      "               precision    recall  f1-score   support\n",
      "\n",
      "           0       0.92      0.99      0.95      5099\n",
      "           1       0.94      0.69      0.80      1416\n",
      "\n",
      "    accuracy                           0.92      6515\n",
      "   macro avg       0.93      0.84      0.87      6515\n",
      "weighted avg       0.92      0.92      0.92      6515\n",
      "\n"
     ]
    }
   ],
   "source": [
    "from sklearn.metrics import  classification_report\n",
    "\n",
    "# Mostrar el informe de clasificación\n",
    "print('\\nClassification Report:\\n', classification_report(y_test, predicted_classes))"
   ]
  },
  {
   "cell_type": "code",
   "execution_count": 26,
   "metadata": {},
   "outputs": [
    {
     "name": "stderr",
     "output_type": "stream",
     "text": [
      "/var/folders/4t/87jmczf5535396rqjf5lhq480000gn/T/ipykernel_1272/4027377081.py:3: UserWarning: You are saving your model as an HDF5 file via `model.save()`. This file format is considered legacy. We recommend using instead the native Keras format, e.g. `model.save('my_model.keras')`.\n",
      "  save_model(model=model, filepath='red', overwrite=True, save_format='h5')\n"
     ]
    }
   ],
   "source": [
    "from keras.saving import save_model\n",
    "\n",
    "save_model(model=model, filepath='red', overwrite=True, save_format='h5')\n",
    "\n",
    "# model.save(filepath='red', overwrite=True, save_format='h5')"
   ]
  },
  {
   "cell_type": "code",
   "execution_count": 88,
   "metadata": {},
   "outputs": [
    {
     "data": {
      "text/plain": [
       "numpy.ndarray"
      ]
     },
     "metadata": {},
     "output_type": "display_data"
    },
    {
     "data": {
      "text/plain": [
       "(1, 26)"
      ]
     },
     "metadata": {},
     "output_type": "display_data"
    },
    {
     "name": "stdout",
     "output_type": "stream",
     "text": [
      "1/1 [==============================] - 0s 25ms/step\n"
     ]
    },
    {
     "data": {
      "text/plain": [
       "array([[0.00205293]], dtype=float32)"
      ]
     },
     "execution_count": 88,
     "metadata": {},
     "output_type": "execute_result"
    }
   ],
   "source": [
    "from keras.saving import load_model\n",
    "import numpy as np\n",
    "\n",
    "my_model = load_model(filepath='red')\n",
    "\n",
    "test = np.array([[-0.4381100644163266,1.839319174591527,-0.693416842248989,4.0207861463575965,-1.0969634277013416,0.4664805128231976,-0.4450398938729062,0,0,0,1,0,0,0,0,0,1,1,0,0,0,0,0,0,1,0]])\n",
    "display(type(test))\n",
    "display(test.shape)\n",
    "my_model.predict(test)\n",
    "# my_model(X_test[1:2], training=False)"
   ]
  }
 ],
 "metadata": {
  "kernelspec": {
   "display_name": "virtual_env",
   "language": "python",
   "name": "python3"
  },
  "language_info": {
   "codemirror_mode": {
    "name": "ipython",
    "version": 3
   },
   "file_extension": ".py",
   "mimetype": "text/x-python",
   "name": "python",
   "nbconvert_exporter": "python",
   "pygments_lexer": "ipython3",
   "version": "3.11.5"
  }
 },
 "nbformat": 4,
 "nbformat_minor": 2
}
